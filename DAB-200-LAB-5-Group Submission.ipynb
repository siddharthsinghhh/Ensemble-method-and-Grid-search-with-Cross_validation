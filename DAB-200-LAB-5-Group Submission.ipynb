{
 "cells": [
  {
   "cell_type": "markdown",
   "metadata": {},
   "source": [
    "# Lab 5 # Ensemble method and Grid search with Cross_validation .\n",
    "\n",
    "Group members:\n",
    "- Name (ID): Sai Sahas Elluru (0753808)\n",
    "- Name (ID): Hari Sai Palem (0747511)\n",
    "- Name (ID): Siddharth Singh (0756590)\n",
    "\n",
    "In this lab, the main objective is to understand the parameters of the Decision Tree model and how to evaluate the model based on the different metrics we studied.\n",
    "\n",
    "By the end of this lab you should have:\n",
    "\n",
    "- a good understanding of ensemble of Decision Trees.\n",
    "- learn and implement how grid search and cross validation are combined in the GridsearchCV class."
   ]
  },
  {
   "cell_type": "markdown",
   "metadata": {},
   "source": [
    "### Grading\n",
    "\n",
    "This lab will be graded as follows:\n",
    "- 50% for comments/text\n",
    "    - Half of the lab grade will come from an assessment of the comments/text included in your Jupyter notebook submission\n",
    "        - The comments/text should explain clearly what you are doing and why it's necessary to achieve the objective\n",
    "        - You should think of the comments/text as if you were creating a tutorial/blog to guide someone through your work \n",
    "- 50% for code\n",
    "    - Half of the lab grade will come from an assessment of your code\n",
    "        - The code in the notebook should use base python, NumPy, Pandas, sklearn, and/or matplotlib. \n",
    "        - All code cells should run error free\n",
    "        - The code does not have to be optimized or pretty: it needs to be functional for the specific task"
   ]
  },
  {
   "cell_type": "markdown",
   "metadata": {},
   "source": [
    "### Submition\n",
    "\n",
    "This is a **group submission** lab, so work in the same groups that you are already assigned to.\n",
    "\n",
    "You should submit the following:\n",
    "- a well-commented Jupyter notebook\n",
    "- the original dataset used as a .csv file"
   ]
  },
  {
   "cell_type": "markdown",
   "metadata": {},
   "source": [
    "### Instructions\n",
    "Use the same dataset that you used for the marked lab #4. If your dataset is bigger than 1,000 rows, you can truncate the dataset to only 1,000 rows to avoid CPU performance issues and explain how you performed the cut.\n",
    "\n",
    "Make sure to explain your steps, results and observations at each step.\n",
    "\n",
    "Use the last 3 digits from any of your group team members user ID as a random state variable where applicable and do implement the following:"
   ]
  },
  {
   "cell_type": "markdown",
   "metadata": {},
   "source": [
    "1- Using nested loops and split ratio 65_training, 15_validation, and 20_testing; while using only the training and validation sets build a random forest with number of trees between 5 and 12 with a step of 2 using the default parameters and implement a cross-validation with 4 folds. Ensure to print out the validation score for each fold and find the one that provides the best accuracy.\n",
    "\n",
    "Once you have identified the one with the best accuracy above, evaulate the accuracy of this model using the testing_set."
   ]
  },
  {
   "cell_type": "code",
   "execution_count": 2,
   "metadata": {},
   "outputs": [],
   "source": [
    "import pandas as pd\n",
    "import numpy as np\n",
    "from sklearn.model_selection import train_test_split\n",
    "from sklearn.metrics import accuracy_score\n",
    "from sklearn.model_selection import KFold\n",
    "from sklearn.model_selection import cross_val_score\n",
    "import matplotlib.pyplot as plt"
   ]
  },
  {
   "cell_type": "markdown",
   "metadata": {},
   "source": [
    "import required libraries"
   ]
  },
  {
   "cell_type": "code",
   "execution_count": 88,
   "metadata": {},
   "outputs": [
    {
     "ename": "FileNotFoundError",
     "evalue": "[WinError 3] The system cannot find the path specified: 'E:\\\\Clair\\\\SEM2\\\\ML\\\\LAb3'",
     "output_type": "error",
     "traceback": [
      "\u001b[1;31m---------------------------------------------------------------------------\u001b[0m",
      "\u001b[1;31mFileNotFoundError\u001b[0m                         Traceback (most recent call last)",
      "\u001b[1;32m<ipython-input-88-b5f06267cf9d>\u001b[0m in \u001b[0;36m<module>\u001b[1;34m\u001b[0m\n\u001b[0;32m      1\u001b[0m \u001b[1;32mimport\u001b[0m \u001b[0mos\u001b[0m\u001b[1;33m\u001b[0m\u001b[1;33m\u001b[0m\u001b[0m\n\u001b[1;32m----> 2\u001b[1;33m \u001b[0mos\u001b[0m\u001b[1;33m.\u001b[0m\u001b[0mchdir\u001b[0m\u001b[1;33m(\u001b[0m\u001b[1;34m'E:\\\\Clair\\\\SEM2\\\\ML\\\\LAb3'\u001b[0m\u001b[1;33m)\u001b[0m\u001b[1;33m\u001b[0m\u001b[1;33m\u001b[0m\u001b[0m\n\u001b[0m",
      "\u001b[1;31mFileNotFoundError\u001b[0m: [WinError 3] The system cannot find the path specified: 'E:\\\\Clair\\\\SEM2\\\\ML\\\\LAb3'"
     ]
    }
   ],
   "source": [
    "import os\n",
    "os.chdir('E:\\\\Clair\\\\SEM2\\\\ML\\\\LAb3')"
   ]
  },
  {
   "cell_type": "code",
   "execution_count": 3,
   "metadata": {},
   "outputs": [],
   "source": [
    "data = pd.read_csv('baseball.csv')"
   ]
  },
  {
   "cell_type": "markdown",
   "metadata": {},
   "source": [
    "Using pandas import baseball.csv"
   ]
  },
  {
   "cell_type": "code",
   "execution_count": 4,
   "metadata": {},
   "outputs": [
    {
     "data": {
      "text/html": [
       "<div>\n",
       "<style scoped>\n",
       "    .dataframe tbody tr th:only-of-type {\n",
       "        vertical-align: middle;\n",
       "    }\n",
       "\n",
       "    .dataframe tbody tr th {\n",
       "        vertical-align: top;\n",
       "    }\n",
       "\n",
       "    .dataframe thead th {\n",
       "        text-align: right;\n",
       "    }\n",
       "</style>\n",
       "<table border=\"1\" class=\"dataframe\">\n",
       "  <thead>\n",
       "    <tr style=\"text-align: right;\">\n",
       "      <th></th>\n",
       "      <th>Team</th>\n",
       "      <th>League</th>\n",
       "      <th>Year</th>\n",
       "      <th>RS</th>\n",
       "      <th>RA</th>\n",
       "      <th>W</th>\n",
       "      <th>OBP</th>\n",
       "      <th>SLG</th>\n",
       "      <th>BA</th>\n",
       "      <th>Playoffs</th>\n",
       "      <th>RankSeason</th>\n",
       "      <th>RankPlayoffs</th>\n",
       "      <th>G</th>\n",
       "      <th>OOBP</th>\n",
       "      <th>OSLG</th>\n",
       "    </tr>\n",
       "  </thead>\n",
       "  <tbody>\n",
       "    <tr>\n",
       "      <th>0</th>\n",
       "      <td>ARI</td>\n",
       "      <td>NL</td>\n",
       "      <td>2012</td>\n",
       "      <td>734</td>\n",
       "      <td>688</td>\n",
       "      <td>81</td>\n",
       "      <td>0.328</td>\n",
       "      <td>0.418</td>\n",
       "      <td>0.259</td>\n",
       "      <td>0</td>\n",
       "      <td>NaN</td>\n",
       "      <td>NaN</td>\n",
       "      <td>162</td>\n",
       "      <td>0.317</td>\n",
       "      <td>0.415</td>\n",
       "    </tr>\n",
       "    <tr>\n",
       "      <th>1</th>\n",
       "      <td>ATL</td>\n",
       "      <td>NL</td>\n",
       "      <td>2012</td>\n",
       "      <td>700</td>\n",
       "      <td>600</td>\n",
       "      <td>94</td>\n",
       "      <td>0.320</td>\n",
       "      <td>0.389</td>\n",
       "      <td>0.247</td>\n",
       "      <td>1</td>\n",
       "      <td>4.0</td>\n",
       "      <td>5.0</td>\n",
       "      <td>162</td>\n",
       "      <td>0.306</td>\n",
       "      <td>0.378</td>\n",
       "    </tr>\n",
       "    <tr>\n",
       "      <th>2</th>\n",
       "      <td>BAL</td>\n",
       "      <td>AL</td>\n",
       "      <td>2012</td>\n",
       "      <td>712</td>\n",
       "      <td>705</td>\n",
       "      <td>93</td>\n",
       "      <td>0.311</td>\n",
       "      <td>0.417</td>\n",
       "      <td>0.247</td>\n",
       "      <td>1</td>\n",
       "      <td>5.0</td>\n",
       "      <td>4.0</td>\n",
       "      <td>162</td>\n",
       "      <td>0.315</td>\n",
       "      <td>0.403</td>\n",
       "    </tr>\n",
       "    <tr>\n",
       "      <th>3</th>\n",
       "      <td>BOS</td>\n",
       "      <td>AL</td>\n",
       "      <td>2012</td>\n",
       "      <td>734</td>\n",
       "      <td>806</td>\n",
       "      <td>69</td>\n",
       "      <td>0.315</td>\n",
       "      <td>0.415</td>\n",
       "      <td>0.260</td>\n",
       "      <td>0</td>\n",
       "      <td>NaN</td>\n",
       "      <td>NaN</td>\n",
       "      <td>162</td>\n",
       "      <td>0.331</td>\n",
       "      <td>0.428</td>\n",
       "    </tr>\n",
       "    <tr>\n",
       "      <th>4</th>\n",
       "      <td>CHC</td>\n",
       "      <td>NL</td>\n",
       "      <td>2012</td>\n",
       "      <td>613</td>\n",
       "      <td>759</td>\n",
       "      <td>61</td>\n",
       "      <td>0.302</td>\n",
       "      <td>0.378</td>\n",
       "      <td>0.240</td>\n",
       "      <td>0</td>\n",
       "      <td>NaN</td>\n",
       "      <td>NaN</td>\n",
       "      <td>162</td>\n",
       "      <td>0.335</td>\n",
       "      <td>0.424</td>\n",
       "    </tr>\n",
       "  </tbody>\n",
       "</table>\n",
       "</div>"
      ],
      "text/plain": [
       "  Team League  Year   RS   RA   W    OBP    SLG     BA  Playoffs  RankSeason  \\\n",
       "0  ARI     NL  2012  734  688  81  0.328  0.418  0.259         0         NaN   \n",
       "1  ATL     NL  2012  700  600  94  0.320  0.389  0.247         1         4.0   \n",
       "2  BAL     AL  2012  712  705  93  0.311  0.417  0.247         1         5.0   \n",
       "3  BOS     AL  2012  734  806  69  0.315  0.415  0.260         0         NaN   \n",
       "4  CHC     NL  2012  613  759  61  0.302  0.378  0.240         0         NaN   \n",
       "\n",
       "   RankPlayoffs    G   OOBP   OSLG  \n",
       "0           NaN  162  0.317  0.415  \n",
       "1           5.0  162  0.306  0.378  \n",
       "2           4.0  162  0.315  0.403  \n",
       "3           NaN  162  0.331  0.428  \n",
       "4           NaN  162  0.335  0.424  "
      ]
     },
     "execution_count": 4,
     "metadata": {},
     "output_type": "execute_result"
    }
   ],
   "source": [
    "data1 = data[0:1000]\n",
    "data1.head()"
   ]
  },
  {
   "cell_type": "markdown",
   "metadata": {},
   "source": [
    "Trimming the data to 1000 values"
   ]
  },
  {
   "cell_type": "code",
   "execution_count": 5,
   "metadata": {},
   "outputs": [],
   "source": [
    "data2 = data1[['RS','RA','W','OBP','SLG','BA','G','League','Playoffs']]\n",
    "data3 = data2.dropna()"
   ]
  },
  {
   "cell_type": "code",
   "execution_count": 6,
   "metadata": {},
   "outputs": [
    {
     "data": {
      "text/plain": [
       "RS          0\n",
       "RA          0\n",
       "W           0\n",
       "OBP         0\n",
       "SLG         0\n",
       "BA          0\n",
       "G           0\n",
       "Playoffs    0\n",
       "NL          0\n",
       "dtype: int64"
      ]
     },
     "execution_count": 6,
     "metadata": {},
     "output_type": "execute_result"
    }
   ],
   "source": [
    "dummies = pd.get_dummies(data3.League,drop_first=True)\n",
    "data4 = pd.concat([data3,dummies],axis=1)\n",
    "data_final = data4.drop('League',axis=1)\n",
    "data_final.head()\n",
    "data_final.isnull().sum()"
   ]
  },
  {
   "cell_type": "markdown",
   "metadata": {},
   "source": [
    "Storing the required columns into the variable 'data'"
   ]
  },
  {
   "cell_type": "code",
   "execution_count": 7,
   "metadata": {},
   "outputs": [],
   "source": [
    "y = data_final.Playoffs.values\n",
    "x = data_final.drop('Playoffs',axis=1)"
   ]
  },
  {
   "cell_type": "markdown",
   "metadata": {},
   "source": [
    "Store the feature variables in x and target variable in y"
   ]
  },
  {
   "cell_type": "code",
   "execution_count": 8,
   "metadata": {},
   "outputs": [],
   "source": [
    "X_train, test_df, y_train, y_test = train_test_split(x, y,test_size=.2, random_state=590)\n",
    "train_df, val_df, train_target, y_val = train_test_split(X_train,y_train,test_size = .1875, random_state=590)"
   ]
  },
  {
   "cell_type": "markdown",
   "metadata": {},
   "source": [
    "Now using train test split from sklearn, split the data into training, testing and validating datasets.\n",
    "\n",
    "In the first statement, we are splitting the data (x, y) into test_df, y_test and X_train, y_train with the test_size = 0.2. Now we have testing datset with 20% of the data.\n",
    "\n",
    "In the second statement, we are splitting the data (X_train, y_train) into train_df, y_train and val_df, y_val with the test_size = 0.1875. Now we have validation dataset with 15% of the data.\n",
    "\n",
    "train_df -> training dataset = 65%\n",
    "\n",
    "test_df -> testing dataset = 20%\n",
    "\n",
    "val_df -> validation dataset = 15%"
   ]
  },
  {
   "cell_type": "code",
   "execution_count": 9,
   "metadata": {},
   "outputs": [
    {
     "name": "stdout",
     "output_type": "stream",
     "text": [
      "number of points in train data 650\n",
      "number of points in validation data 150\n",
      "number of points in test 200\n"
     ]
    }
   ],
   "source": [
    "print('number of points in train data', train_df.shape[0])\n",
    "print('number of points in validation data', val_df.shape[0])\n",
    "print('number of points in test', test_df.shape[0])"
   ]
  },
  {
   "cell_type": "markdown",
   "metadata": {},
   "source": [
    "Checking the shape each dataset train_df, test_df, and val_df."
   ]
  },
  {
   "cell_type": "markdown",
   "metadata": {},
   "source": [
    "Ensemble learning is used to enhance the performance of Machine Learning model. Random Forest comes under bagging technique. In bagging, weak learners are produced parallely in training phase. Performance of model can be increased by parallely training the weak learners on a bootstrap dataset. Dividing the dataset into bootstrapped datasets and running weak learner algorithm on each of the bootstrapped datasets."
   ]
  },
  {
   "cell_type": "code",
   "execution_count": 11,
   "metadata": {},
   "outputs": [
    {
     "name": "stdout",
     "output_type": "stream",
     "text": [
      "cross val score for n_estimator =  5 is 0.89625\n",
      "\n",
      "cross val score for n_estimator =  7 is 0.905\n",
      "\n",
      "cross val score for n_estimator =  9 is 0.9125000000000001\n",
      "\n",
      "cross val score for n_estimator =  11 is 0.9125000000000001\n",
      "\n"
     ]
    }
   ],
   "source": [
    "from sklearn.ensemble import RandomForestClassifier\n",
    "for i in [5,7,9,11]:\n",
    "    clf_RF = RandomForestClassifier(n_estimators = i, random_state = 590)\n",
    "    scores=cross_val_score(clf_RF,X_train,y_train,cv=4).mean()\n",
    "    print(\"cross val score for n_estimator = \", i, \"is\", scores)\n",
    "    print()"
   ]
  },
  {
   "cell_type": "markdown",
   "metadata": {},
   "source": [
    "Using sklearn ensemble we import Randomforest classifier to create a new model. Random forest also works as decision tree but RF consturcts multiple decision trees by changing the root node. That means each time a tree is built with different root node and decision nodes. Each tree gives the final decision or leaf node. RF chooses the result of majority of the decision trees.\n",
    "Here n_estimators means number of trees to be built.\n",
    "\n",
    "Cross validation score is calculated using taget, feature, model and number of folds. Generally, cross validation shuffles the data randomly and split the data into given number of folds. Using the data provided it splits,train, and evaluates for each fold.\n",
    "\n",
    "Now we are using for loop to calculate which estimator gives the best cross val score and model. And the classifier is random forest classifier. Calculating cross val score which is imported from sklearn. The parameters are randomforest classifier and validation dataset and 4 folds. Calculating the mean of each fold for each estimators. \n",
    "\n",
    "Randomforest classifier model gives best cross validation score with the estimator = 9 which is 0.913."
   ]
  },
  {
   "cell_type": "code",
   "execution_count": 119,
   "metadata": {},
   "outputs": [],
   "source": [
    "#print('accuracy for 5,7,9,11 trees are',acc[0:])"
   ]
  },
  {
   "cell_type": "code",
   "execution_count": 120,
   "metadata": {},
   "outputs": [
    {
     "data": {
      "text/plain": [
       "0.885"
      ]
     },
     "execution_count": 120,
     "metadata": {},
     "output_type": "execute_result"
    }
   ],
   "source": [
    "model_RF = RandomForestClassifier(n_estimators = 9)\n",
    "model_RF.fit(X_train,y_train)\n",
    "y_pred_test_set = model_RF.predict(test_df)\n",
    "accuracy_score(y_test,y_pred_test_set)"
   ]
  },
  {
   "cell_type": "markdown",
   "metadata": {},
   "source": [
    "Using the best estimator which we got by calculating the cross validation score, we build the random forest model and fit it using training data. Then predict the values for testing data and calculate the prediction accuracy or testing accuracy.\n",
    "\n",
    "Testing accuracy for randomforest clssifier with 9 trees is 0.84"
   ]
  },
  {
   "cell_type": "markdown",
   "metadata": {},
   "source": [
    "2- Explain the difference between the best accuracy obtained from the model and that obtained using the testing_set above.\n",
    "\n",
    "Compare your results in Step#1 above to the best results you had in lab #4, explain the differencies if any."
   ]
  },
  {
   "cell_type": "markdown",
   "metadata": {},
   "source": [
    "Best accuracy from the cross validation score is 0.906 by building random forest classifier with 9 trees. And testing accuracy of random forest classifier with 9 trees is 0.84. There is a huge difference between these 2 accuracies.\n",
    "Generally to estimate the performance of the model we have to consider the test accuracy. The accuracy for validation set could be more because of overfitting. And moreover the model behaves differently with the unseen data (test) than the data which is used to train the model. This can be the reason for less testing accuracy.\n",
    "\n",
    "Tesiting accuracy for decision tree model with same data is 0.9 and for RF model is 0.84. Decision tree builts a single tree with respect to decrease the entropy in the dataset. But a single decision tree is often a weak learner. We need multiple trees for better prediction. These multiple trees method is Random forest classifier method. Though the testing accuracy of random forest is less than testing accuracy of decision tree, the prediction for random forest is better. And the other reason would be data used for training the data in the case of decision tree is 80% and the training data used in random forest is 65%.\n"
   ]
  },
  {
   "cell_type": "markdown",
   "metadata": {},
   "source": [
    "3- Similar to question 1 in lab #4 but instead of using nested loops use the GridSearchCV class with the model that you obtained in step 1 above, try to find the best combined parameters that provide the best accuracy for the testing dataset from:\n",
    "- max_depth values between 3 and 5 with a step of 1.\n",
    "- max_leaf_nodes values between 10 and 20 with a step of 5.\n",
    "- min_samples_leaf with values between 10 and 25 with a step of 5.\n",
    "\n",
    "Plot your results for the testing and training accuracies for each step.\n",
    "\n",
    "\n",
    "Compare your result with what you obtained in lab #4."
   ]
  },
  {
   "cell_type": "code",
   "execution_count": 121,
   "metadata": {},
   "outputs": [],
   "source": [
    "params= {'max_depth': (3,4,5),\n",
    "        'max_leaf_nodes':(10,15,20),\n",
    "        'min_samples_leaf':(10,15,20,25)}"
   ]
  },
  {
   "cell_type": "markdown",
   "metadata": {},
   "source": [
    "max_depth, max_leaf_nodes and min_samples_leaf are the parameters which we are tuning. Params is the variable for the grid search parameter param_grid."
   ]
  },
  {
   "cell_type": "code",
   "execution_count": 18,
   "metadata": {},
   "outputs": [],
   "source": [
    "from sklearn.model_selection import GridSearchCV\n",
    "dt = RandomForestClassifier()"
   ]
  },
  {
   "cell_type": "code",
   "execution_count": 123,
   "metadata": {},
   "outputs": [
    {
     "name": "stdout",
     "output_type": "stream",
     "text": [
      "Test score is 0.87\n",
      "Best parameters:{'max_depth': 5, 'max_leaf_nodes': 10, 'min_samples_leaf': 25}\n",
      "Best grid search score:0.925\n",
      "Best estimator:RandomForestClassifier(max_depth=5, max_leaf_nodes=10, min_samples_leaf=25,\n",
      "                       n_estimators=9, random_state=590)\n"
     ]
    }
   ],
   "source": [
    "grid_search_RF = GridSearchCV(RandomForestClassifier(n_estimators=9,random_state=590), param_grid = params,return_train_score=True,scoring = 'accuracy', n_jobs = -1)\n",
    "grid_search_RF = grid_search_RF.fit(X_train, y_train)\n",
    "accuracy = grid_search_RF.best_score_\n",
    "print(\"Test score is \"+str(grid_search_RF.score(test_df,y_test)))\n",
    "print(\"Best parameters:\"+str(grid_search_RF.best_params_))\n",
    "print(\"Best grid search score:\"+str(accuracy))\n",
    "print(\"Best estimator:\"+str(grid_search_RF.best_estimator_))"
   ]
  },
  {
   "cell_type": "markdown",
   "metadata": {},
   "source": [
    "Here we using grid search cv which is an library fo r hyperparameter tuning.\n",
    "Each parameter of decission tree classifier has significance. Max depth represents how many layers does a tree need to spread. If max_depth is higher then there is a high chance of overfitting vice versa if it is lower then there is a chance that the tree not recognize the importance of features. Over here we are comparing max_depth of 3 and 4 we take 3 as our ideal since it lead to high accuracy.\n",
    "\n",
    "max_leaf_nodes determines the tree with max_leaf_nodes in best first fashion. Best nodes are defined as relative reduction in impurity. So we will go for higher max_leaf_nodes. By that condition for max_leaf_node 10 the accuracy is higher.\n",
    "\n",
    "min_sample_leaf: leaf node is a node without any children(without any further splits). This value used to stop split of leafs to certain samples. This reduces overfitting and complexity. By this condition for min_sample_leaf 25 the accuracy is higher.\n",
    "\n",
    "So for the combination max_depth:3, max_leaf_nodes:15, and min_sample_leaf:10 the testing accuracy is 0.925.\n"
   ]
  },
  {
   "cell_type": "code",
   "execution_count": 124,
   "metadata": {},
   "outputs": [
    {
     "data": {
      "image/png": "[encoded data removed]",
      "text/plain": [
       "<Figure size 432x288 with 1 Axes>"
      ]
     },
     "metadata": {
      "needs_background": "light"
     },
     "output_type": "display_data"
    }
   ],
   "source": [
    "            dt_RF = RandomForestClassifier(n_estimators = 9, max_depth = 5, max_leaf_nodes = 10, min_samples_leaf = 25, random_state = 590)\n",
    "            dt_RF.fit(X_train, y_train)  #fit the model\n",
    "            y_pred = dt_RF.predict(test_df)\n",
    "            testaccuracy_RF = accuracy_score(y_test,y_pred)  \n",
    "            \n",
    "            y_pred2 = dt_RF.predict(X_train)\n",
    "            trainaccuracy_RF = accuracy_score(y_train,y_pred2)\n",
    "            \n",
    "            objects_RF = ('Test Accuracy_RF', 'Train Accuracy_RF')\n",
    "            y = np.arange(len(objects_RF))\n",
    "            Accuracy_RF = [testaccuracy_RF, trainaccuracy_RF]\n",
    "            plt.bar(y, Accuracy_RF, width = 0.6, align = 'center', alpha=0.4, color = ['red', 'green'])\n",
    "            for index, value in enumerate(Accuracy_RF): \n",
    "                plt.text(index, value, str(value), horizontalalignment='center', verticalalignment='top', alpha = 1.0)\n",
    "            plt.xticks(y, objects_RF)\n",
    "            plt.ylabel('Accuracies')\n",
    "            plt.title('Accuracy Plot')\n",
    "            plt.show()"
   ]
  },
  {
   "cell_type": "markdown",
   "metadata": {},
   "source": [
    "Using the model with best parameters, we are predicting the values for test_df and finding the predicting accuracy. And also predicting the values for train_df and finding the predicting accuracy for training set. And also we plotted the training and testing accuracies. Obviously, the training accuracy will be higher because the model has already seen the training data which we used to fit the model with. To validate the model performance we need to consider the prediction accuracy of test data which is .\n",
    "\n",
    "The prediction accuracy of test data for decision tree model with the parameters max_depth:3, max_leaf_nodes:15, and min_sample_leaf:10 is 0.9.\n",
    "\n",
    "The prediction accuracy of test data for Random forest classifier model with the parameters max_depth:5, max_leaf_nodes:10, and min_sample_leaf:25 is 0.87.\n",
    "Accuarcy has been increased after hyper parameter tuning. But it is still less than the accuracy of decision tree wiht a difference of 0.03. Ensemble methods are basically used to compute large datasets and the dataset on which we computing the model has 1000 rows only. So, there is a chance of underfitting. Decision tree classifier is weak learner because of only one tree. And there is a high cahance of overfitting and variance."
   ]
  },
  {
   "cell_type": "markdown",
   "metadata": {},
   "source": [
    "4- Explain how the GridSearchCV works."
   ]
  },
  {
   "cell_type": "markdown",
   "metadata": {},
   "source": [
    "We will be doing hyperparameter tuning using gridsearch cv which is imported form sklearn model selection library. It basically a long nested for-loop which is simplified into few lines of code. Rather than going for nested for-loop to get which combination of hyperparameter values gives best accuracy values, we input all these into param_grid, parameter of the grid searchcv. By specifying the model name in estimator. It calculates the specified scoring parameter using it. It gives all the best parameters which gives best accuracy."
   ]
  },
  {
   "cell_type": "markdown",
   "metadata": {},
   "source": [
    "5- Repeat questions 1 to 3 above using the XGBoost ensembel of your choice inplace of the random forest and compare your results. "
   ]
  },
  {
   "cell_type": "code",
   "execution_count": 13,
   "metadata": {},
   "outputs": [
    {
     "name": "stdout",
     "output_type": "stream",
     "text": [
      "cross val score for n_estimator =  5 is 0.91625\n",
      "\n",
      "cross val score for n_estimator =  7 is 0.9175\n",
      "\n",
      "cross val score for n_estimator =  9 is 0.91875\n",
      "\n",
      "cross val score for n_estimator =  11 is 0.9175\n",
      "\n"
     ]
    }
   ],
   "source": [
    "from xgboost import XGBClassifier\n",
    "for i in [5,7,9,11]:\n",
    "    clf_XG = XGBClassifier(n_estimators = i, random_state=590)\n",
    "    scores=cross_val_score(clf_XG,X_train,y_train,cv=4).mean()\n",
    "    print(\"cross val score for n_estimator = \", i, \"is\", scores)\n",
    "    print()"
   ]
  },
  {
   "cell_type": "markdown",
   "metadata": {},
   "source": [
    "We are importing XGBClassifier from the xgboost library. It is called Extreme Gradient Boosting, and a ensembe method which comes under boosting(sequential) technique. In boosting, trees are built one after the other and performance of model is improved by assigning weightage to the previously incorrect classified samples.\n",
    "\n",
    "In Gradient Boosting, present base learner is  always more effective than the previous one and the base learners are generated in that way. Overall model performance improves sequentially with each iteration.\n",
    "\n",
    "XGBoost is an advance level of gradient boosting. It mainly focuses on computational speed and efficiency. This method optimizes the loss function of previos learner to increase the model performance.\n",
    "\n",
    "Using same techniques as in step-1, we are calculating cross validation score for training and validation datasets with 4 folds. By this we can determine number trees to be generated to procure the best accuracy from the model.\n",
    "\n",
    "For n_estimator = 9 the accuracy is 0.919"
   ]
  },
  {
   "cell_type": "code",
   "execution_count": 14,
   "metadata": {},
   "outputs": [],
   "source": [
    "#print('accuracy for 5,7,9,11 trees are',acc[0:])"
   ]
  },
  {
   "cell_type": "code",
   "execution_count": 21,
   "metadata": {},
   "outputs": [
    {
     "data": {
      "text/plain": [
       "0.875"
      ]
     },
     "execution_count": 21,
     "metadata": {},
     "output_type": "execute_result"
    }
   ],
   "source": [
    "model_XG = XGBClassifier(n_estimators= 9)\n",
    "model_XG.fit(X_train,y_train)\n",
    "y_pred_test_set = model_XG.predict(test_df)\n",
    "accuracy_score(y_test,y_pred_test_set)"
   ]
  },
  {
   "cell_type": "markdown",
   "metadata": {},
   "source": [
    "We use the same estimator and build the model to find the predicting accuracy of test data. Accuracy for training and validating data is 0.919 and for the test data is 0.875. It can be because the model has not seen the test data and may behave differently with the test data."
   ]
  },
  {
   "cell_type": "code",
   "execution_count": 16,
   "metadata": {},
   "outputs": [],
   "source": [
    "params= {'max_depth': (3,4,5),\n",
    "        'max_leaf_nodes':(10,15,20),\n",
    "        'min_samples_leaf':(10,15,20,25)}"
   ]
  },
  {
   "cell_type": "code",
   "execution_count": 19,
   "metadata": {},
   "outputs": [
    {
     "name": "stdout",
     "output_type": "stream",
     "text": [
      "Test score is 0.895\n",
      "Best parameters:{'max_depth': 4, 'max_leaf_nodes': 10, 'min_samples_leaf': 10}\n",
      "Best grid search score:0.9137121830794214\n",
      "Best estimator:XGBClassifier(max_depth=4, max_leaf_nodes=10, min_samples_leaf=10,\n",
      "              n_estimators=11, random_state=590)\n"
     ]
    }
   ],
   "source": [
    "grid_search_XG = GridSearchCV(XGBClassifier(n_estimators = 11, random_state = 590), param_grid = params,return_train_score=True, n_jobs = -1, cv=3)\n",
    "grid_search_XG = grid_search_XG.fit(X_train, y_train)\n",
    "print(\"Test score is \"+str(grid_search_XG.score(test_df,y_test)))\n",
    "print(\"Best parameters:\"+str(grid_search_XG.best_params_))\n",
    "print(\"Best grid search score:\"+str(grid_search_XG.best_score_))\n",
    "print(\"Best estimator:\"+str(grid_search_XG.best_estimator_))"
   ]
  },
  {
   "cell_type": "markdown",
   "metadata": {},
   "source": [
    "Using the best model from the previous step, we are performing hyperparameter tuning of the model using gridsearchcv method.\n",
    "So for the combination max_depth:4, max_leaf_nodes:10, and min_sample_leaf:10 the accuracy is 0.914. And the accuracy has been improved after the parameter tuning.\n",
    "\n"
   ]
  },
  {
   "cell_type": "code",
   "execution_count": 20,
   "metadata": {},
   "outputs": [
    {
     "data": {
      "image/png": "[encoded data removed]",
      "text/plain": [
       "<Figure size 432x288 with 1 Axes>"
      ]
     },
     "metadata": {
      "needs_background": "light"
     },
     "output_type": "display_data"
    }
   ],
   "source": [
    "            xgb = XGBClassifier(n_estimators = 11, max_depth = 4, max_leaf_nodes = 10, min_samples_leaf = 10, random_state = 590)\n",
    "            xgb.fit(X_train, y_train)  #fit the model\n",
    "            y_pred = xgb.predict(test_df)\n",
    "            testaccuracy_XG = accuracy_score(y_test,y_pred)  \n",
    "            \n",
    "            y_pred2 = xgb.predict(X_train)\n",
    "            trainaccuracy_XG = accuracy_score(y_train,y_pred2)\n",
    "            \n",
    "            objects_XG = ('Test Accuracy_XG', 'Train Accuracy_XG')\n",
    "            y = np.arange(len(objects_XG))\n",
    "            Accuracy_XG = [testaccuracy_XG, trainaccuracy_XG]\n",
    "            plt.bar(y, Accuracy_XG, width = 0.6, align = 'center', alpha=0.4, color = ['red', 'green'])\n",
    "            for index, value in enumerate(Accuracy_XG): \n",
    "                plt.text(index, value, str(value), horizontalalignment='center', verticalalignment='top', alpha = 1.0)\n",
    "            plt.xticks(y, objects_XG)\n",
    "            plt.ylabel('Accuracies')\n",
    "            plt.title('Accuracy Plot')\n",
    "            plt.show()"
   ]
  },
  {
   "cell_type": "markdown",
   "metadata": {},
   "source": [
    "Finally, we are using best parameters from the gridsearch cv to evaluate the predicting accuracy of training data and predicting accuracy for the test data.\n",
    "\n",
    "The prediction accuracy of test data for decision tree model with the parameters max_depth:3, max_leaf_nodes:15, and min_sample_leaf:10 is 0.9.\n",
    "\n",
    "The prediction accuracy of test data for XGBosst classifier model with the parameters max_depth:4, max_leaf_nodes:10, and min_sample_leaf:10 is 0.895. There is a slight decrease in the performance but there can be much better accuracy if the model is trained with much more data. Since, these ensemble methods are used to compute large datasets. There can be an issue of underfitting."
   ]
  },
  {
   "cell_type": "code",
   "execution_count": null,
   "metadata": {},
   "outputs": [],
   "source": []
  }
 ],
 "metadata": {
  "kernelspec": {
   "display_name": "Python 3",
   "language": "python",
   "name": "python3"
  },
  "language_info": {
   "codemirror_mode": {
    "name": "ipython",
    "version": 3
   },
   "file_extension": ".py",
   "mimetype": "text/x-python",
   "name": "python",
   "nbconvert_exporter": "python",
   "pygments_lexer": "ipython3",
   "version": "3.7.9"
  }
 },
 "nbformat": 4,
 "nbformat_minor": 4
}
